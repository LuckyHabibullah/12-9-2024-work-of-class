{
 "cells": [
  {
   "cell_type": "code",
   "execution_count": null,
   "id": "bc4762d5-b530-4271-856b-83829e1379ad",
   "metadata": {},
   "outputs": [],
   "source": [
    "a = input(\"Enter 1st Name:\")\n",
    "b = input(\"Enter 2nd Name:\")\n",
    "#a = int(input(\"Enter 1st number:\"))\n",
    "#b = int(input(\"Enter 2nd number:\"))\n",
    "\n",
    "\n",
    "\n",
    "print(\"Your Fullname is: \",a,b)\n",
    "#for i in range(5):\n",
    "\n"
   ]
  },
  {
   "cell_type": "code",
   "execution_count": 23,
   "id": "13c095d3-f3e0-4e3f-a156-663418ff7929",
   "metadata": {},
   "outputs": [
    {
     "name": "stdin",
     "output_type": "stream",
     "text": [
      "Enter 1st number to add in 2nd number 5\n",
      "Enter 2nd number to sum 6\n"
     ]
    },
    {
     "name": "stdout",
     "output_type": "stream",
     "text": [
      "your result is:  11\n"
     ]
    }
   ],
   "source": [
    "a = int(input(\"Enter 1st number to add in 2nd number\" ))\n",
    "b = int(input(\"Enter 2nd number to sum\" ))\n",
    "\n",
    "print(\"your result is: \",a+b)\n"
   ]
  },
  {
   "cell_type": "code",
   "execution_count": 26,
   "id": "cc6a2bc5-6cb5-4891-928f-98593c8a1cca",
   "metadata": {},
   "outputs": [
    {
     "name": "stdin",
     "output_type": "stream",
     "text": [
      "Enter 1st number to sub in 2nd number 5\n",
      "Enter 2nd number to sub 6\n"
     ]
    },
    {
     "name": "stdout",
     "output_type": "stream",
     "text": [
      "your result is:  -1\n"
     ]
    }
   ],
   "source": [
    "a = int(input(\"Enter 1st number to sub in 2nd number\" ))\n",
    "b = int(input(\"Enter 2nd number to sub\" ))\n",
    "\n",
    "print(\"your result is: \",a-b)\n"
   ]
  },
  {
   "cell_type": "code",
   "execution_count": 28,
   "id": "dbe90d7c-19e6-4f5e-9912-1e078f68c420",
   "metadata": {},
   "outputs": [
    {
     "name": "stdin",
     "output_type": "stream",
     "text": [
      "Enter 1st number to multiply in 2nd number 5\n",
      "Enter 2nd number to multiply 5\n"
     ]
    },
    {
     "name": "stdout",
     "output_type": "stream",
     "text": [
      "your result is:  25\n"
     ]
    }
   ],
   "source": [
    "a = int(input(\"Enter 1st number to multiply in 2nd number\" ))\n",
    "b = int(input(\"Enter 2nd number to multiply\" ))\n",
    "\n",
    "print(\"your result is: \",a*b)\n"
   ]
  },
  {
   "cell_type": "code",
   "execution_count": 1,
   "id": "02725c69-57f1-4016-84a3-d26515446e63",
   "metadata": {},
   "outputs": [
    {
     "name": "stdin",
     "output_type": "stream",
     "text": [
      "Enter 1st number to divide in 2nd number 5\n",
      "Enter 2nd number to divide 5\n"
     ]
    },
    {
     "name": "stdout",
     "output_type": "stream",
     "text": [
      "your result is:  1.0\n"
     ]
    }
   ],
   "source": [
    "a = int(input(\"Enter 1st number to divide in 2nd number\" ))\n",
    "b = int(input(\"Enter 2nd number to divide\" ))\n",
    "\n",
    "print(\"your result is: \",a/b)\n"
   ]
  },
  {
   "cell_type": "code",
   "execution_count": 20,
   "id": "6c707357-980e-4438-b672-5bf2a37a3259",
   "metadata": {},
   "outputs": [
    {
     "name": "stdin",
     "output_type": "stream",
     "text": [
      "Which number or table do you want 5\n",
      "How many times of table do you want 5\n"
     ]
    },
    {
     "name": "stdout",
     "output_type": "stream",
     "text": [
      "5 x 1 = 5\n",
      "5 x 2 = 10\n",
      "5 x 3 = 15\n",
      "5 x 4 = 20\n",
      "5 x 5 = 25\n"
     ]
    }
   ],
   "source": [
    "tab = int(input(\"Which number or Table do you want\" ))\n",
    "num = int(input(\"How many times your table multiply\" ))\n",
    "\n",
    "for i in range(num):\n",
    "    print(\n",
    "\n",
    "#tab = int(input(\"Which number or table do you want\" ))\n",
    "#num = int(input(\"How many times of table do you want\" ))\n",
    "#for i in range(num):\n",
    "    print(tab, \"x\", i+1, \"=\", tab * (i+1))"
   ]
  },
  {
   "cell_type": "code",
   "execution_count": 11,
   "id": "ef4d08b3-754d-40db-9b03-2014bc3d9e65",
   "metadata": {},
   "outputs": [
    {
     "name": "stdin",
     "output_type": "stream",
     "text": [
      "Which number or table do you want 5\n",
      "How many times of table do you want 8\n"
     ]
    },
    {
     "name": "stdout",
     "output_type": "stream",
     "text": [
      "5 x 1 =5\n",
      "5 x 2 =10\n",
      "5 x 3 =15\n",
      "5 x 4 =20\n",
      "5 x 5 =25\n",
      "5 x 6 =30\n",
      "5 x 7 =35\n",
      "5 x 8 =40\n",
      "5 is your table 8 bar run ho chuka hai. \n"
     ]
    }
   ],
   "source": [
    "                                              # do in home \n",
    "tab = int(input(\"Which number or table do you want\" ))\n",
    "num = int(input(\"How many times of table do you want\" ))\n",
    "\n",
    "for i in range(1, num+1):\n",
    "    print(f\"{tab} x {i} ={tab*i}\")\n",
    "else:\n",
    "    print(f\"{tab} is your table {num} bar run ho chuka hai. \")\n",
    "    \n",
    "          \n",
    "    "
   ]
  },
  {
   "cell_type": "code",
   "execution_count": 5,
   "id": "1931f1fc-5e4b-4626-b419-32fb1b0744f3",
   "metadata": {},
   "outputs": [
    {
     "name": "stdout",
     "output_type": "stream",
     "text": [
      "7\n",
      "8\n",
      "9\n",
      "10\n",
      "11\n",
      "12\n",
      "13\n",
      "14\n"
     ]
    }
   ],
   "source": [
    "for i in range(7, 14+1):\n",
    "  print(i)"
   ]
  },
  {
   "cell_type": "code",
   "execution_count": null,
   "id": "31c09f1e-90dc-4c29-9443-cd4c31fc8217",
   "metadata": {},
   "outputs": [],
   "source": []
  },
  {
   "cell_type": "code",
   "execution_count": 13,
   "id": "3f82defb-7e3c-4304-a752-5104b2701d74",
   "metadata": {},
   "outputs": [
    {
     "name": "stdin",
     "output_type": "stream",
     "text": [
      "Enter your name: habibullah\n",
      "Enter your physics numbers: 67\n",
      "Enter your urdu numbers: 42\n",
      "Enter your islamiat numbers: 12\n"
     ]
    },
    {
     "name": "stdout",
     "output_type": "stream",
     "text": [
      "\tyour Total marks are: 121\n",
      " and your percentage is  44.0\n",
      " and your grade is  pass\n"
     ]
    }
   ],
   "source": [
    "                                                      # marksheet(1)\n",
    "\n",
    "name = input(\"Enter your name:\" )\n",
    "\n",
    "phy = int(input(\"Enter your physics numbers:\"))\n",
    "urdu = int(input(\"Enter your urdu numbers:\"))      \n",
    "islamiat = int(input(\"Enter your islamiat numbers:\"))\n",
    "\n",
    "obtain = (phy + urdu + islamiat)\n",
    "percent = (obtain /275 *100)\n",
    "\n",
    "if percent > 50 and percent < 100:\n",
    "    grade = \"A1\"\n",
    "\n",
    "elif percent > 40 and percent < 50  :\n",
    "    grade = \"pass\"\n",
    "elif percent > 40 and percent < 0:\n",
    "    grade = \"fail\"\n",
    "\n",
    "else:\n",
    "    grade = \"invalid error of grade\"\n",
    "\n",
    "    \n",
    "print(f\"\\tyour Total marks are: {obtain}\\n and your percentage is  {percent}\\n and your grade is  {grade}\" )\n",
    "\n",
    "\n",
    "\n",
    "        "
   ]
  },
  {
   "cell_type": "code",
   "execution_count": null,
   "id": "889d59d5-7eeb-417c-8205-96f2c476028e",
   "metadata": {},
   "outputs": [],
   "source": [
    " [n represent in  space in result]"
   ]
  },
  {
   "cell_type": "code",
   "execution_count": 9,
   "id": "27bd1361-312a-48ee-9f69-e37eff31dbc5",
   "metadata": {},
   "outputs": [
    {
     "name": "stdout",
     "output_type": "stream",
     "text": [
      "6\n"
     ]
    }
   ],
   "source": [
    "a = 5\n",
    "\n",
    "a = a + 1\n",
    "\n",
    "print(a)"
   ]
  },
  {
   "cell_type": "code",
   "execution_count": 11,
   "id": "32463dc7-34c5-4ff5-947e-9e84efa71da4",
   "metadata": {},
   "outputs": [
    {
     "name": "stdout",
     "output_type": "stream",
     "text": [
      "0\n",
      "1\n",
      "2\n",
      "3\n",
      "4\n"
     ]
    }
   ],
   "source": [
    "a = 0\n",
    "\n",
    "while a < 5:\n",
    "    print(a )\n",
    "    a += 1"
   ]
  },
  {
   "cell_type": "code",
   "execution_count": 17,
   "id": "365aaaa9-7006-4dea-a66c-c65a7a411d95",
   "metadata": {},
   "outputs": [
    {
     "name": "stdout",
     "output_type": "stream",
     "text": [
      "3\n",
      "5\n",
      "7\n",
      "9\n"
     ]
    }
   ],
   "source": [
    "\n",
    "a = 3\n",
    "\n",
    "while a <= 10:\n",
    "    print(a)\n",
    "    a += 2"
   ]
  },
  {
   "cell_type": "code",
   "execution_count": 21,
   "id": "45093186-f078-41d3-bc4b-df47d2626f12",
   "metadata": {},
   "outputs": [
    {
     "name": "stdout",
     "output_type": "stream",
     "text": [
      "2\n"
     ]
    }
   ],
   "source": [
    "print(11 % 3)"
   ]
  },
  {
   "cell_type": "code",
   "execution_count": 16,
   "id": "96c38752-41b5-4257-93d2-70a4bd5e1208",
   "metadata": {},
   "outputs": [
    {
     "name": "stdin",
     "output_type": "stream",
     "text": [
      "give me number 23\n"
     ]
    },
    {
     "name": "stdout",
     "output_type": "stream",
     "text": [
      "this is odd number\n"
     ]
    }
   ],
   "source": [
    "user = int(input(\"give me number\")) #in home practice\n",
    "\n",
    "if (user % 2) == 0:\n",
    "    print(\"this is Even number\")\n",
    "\n",
    "elif (user % 2) != 0:\n",
    "    print(\"this is odd number\")\n",
    "    \n"
   ]
  },
  {
   "cell_type": "code",
   "execution_count": null,
   "id": "707e3798-5e20-462a-83ec-42738482c773",
   "metadata": {},
   "outputs": [],
   "source": []
  },
  {
   "cell_type": "code",
   "execution_count": null,
   "id": "fddbecc4-3bb5-4172-a901-a83c15bdb0cc",
   "metadata": {},
   "outputs": [],
   "source": [
    " a = \"\"\n",
    "\n",
    "while a != \"a\":\n",
    "    user = int(input(\"give me number\")) #in home practice\n",
    "\n",
    "    if (user % 2) == 0:\n",
    "        print(\"this is Even number\")\n",
    "    \n",
    "    elif (user % 2) != 0:\n",
    "        print(\"this is odd number\")\n",
    "  \n",
    "    a = str(input(\"press a to stop or other key to continued: \"))"
   ]
  },
  {
   "cell_type": "code",
   "execution_count": 1,
   "id": "e80b0dbe-09d7-4091-998b-a645f1bb1bb6",
   "metadata": {},
   "outputs": [
    {
     "name": "stdin",
     "output_type": "stream",
     "text": [
      "give me number 2\n"
     ]
    },
    {
     "name": "stdout",
     "output_type": "stream",
     "text": [
      "this is Even number\n"
     ]
    },
    {
     "name": "stdin",
     "output_type": "stream",
     "text": [
      "press q to stop or other key to continued:  Q\n"
     ]
    }
   ],
   "source": [
    "a = \"\"\n",
    "\n",
    "while a.lower() != \"q\":\n",
    "    user = int(input(\"give me number\")) #in home practice\n",
    "\n",
    "    if (user % 2) == 0:\n",
    "        print(\"this is Even number\")\n",
    "    \n",
    "    elif (user % 2) != 0:\n",
    "        print(\"this is odd number\")\n",
    "  \n",
    "    a = str(input(\"press q to stop or other key to continued: \"))"
   ]
  },
  {
   "cell_type": "code",
   "execution_count": 26,
   "id": "3477aeef-2cfc-48c7-8eca-9faf76e37df7",
   "metadata": {},
   "outputs": [
    {
     "name": "stdout",
     "output_type": "stream",
     "text": [
      "1\n",
      "2\n",
      "3\n",
      "4\n",
      "5\n",
      "6\n",
      "7\n",
      "8\n",
      "9\n",
      "10\n",
      "END\n"
     ]
    }
   ],
   "source": [
    "a = 1\n",
    "\n",
    "while a <= 10:\n",
    "    print (a)\n",
    "    a += 1\n",
    "\n",
    "print (\"END\")\n",
    "\n",
    "\n"
   ]
  },
  {
   "cell_type": "code",
   "execution_count": 1,
   "id": "a32bcb81-c0fd-4194-a9f0-2a6c38b03572",
   "metadata": {},
   "outputs": [
    {
     "name": "stdout",
     "output_type": "stream",
     "text": [
      "5\n",
      "4\n",
      "3\n",
      "2\n",
      "1\n"
     ]
    }
   ],
   "source": [
    "a = 5\n",
    "\n",
    "while a >= 1:\n",
    "    print(a)\n",
    "    a -= 1\n"
   ]
  },
  {
   "cell_type": "code",
   "execution_count": 5,
   "id": "211eef75-a835-46c0-b728-93ddd9989056",
   "metadata": {},
   "outputs": [
    {
     "name": "stdout",
     "output_type": "stream",
     "text": [
      "6\n"
     ]
    }
   ],
   "source": [
    "fact = 4\n",
    "\n",
    "result = 1\n",
    "\n",
    "while fact >= 1:\n",
    "    result *= fact\n",
    "    fact -= 1\n",
    "\n",
    "print(result)\n",
    "\n"
   ]
  },
  {
   "cell_type": "code",
   "execution_count": 23,
   "id": "d16a4e19-c2b1-457c-bc2c-c69f9dee38ed",
   "metadata": {},
   "outputs": [
    {
     "name": "stdin",
     "output_type": "stream",
     "text": [
      "enter me factorail number:  3\n"
     ]
    },
    {
     "name": "stdout",
     "output_type": "stream",
     "text": [
      "6\n"
     ]
    }
   ],
   "source": [
    "num = int(input(\"enter me factorail number: \"))\n",
    "fact = num\n",
    "result = 1\n",
    "\n",
    "while fact >= 1:\n",
    "    result *= fact\n",
    "    fact -= 1\n",
    "\n",
    "print(result)\n"
   ]
  },
  {
   "cell_type": "code",
   "execution_count": null,
   "id": "999c2bfb-e854-481a-a160-78507ef45157",
   "metadata": {},
   "outputs": [],
   "source": [
    "tab = 3\n",
    "a = 1\n",
    "\n",
    "while a <= 10:\n",
    "    print(f\"{tab} x {a} = {tab*a}\") \n",
    "    a += 1\n"
   ]
  },
  {
   "cell_type": "code",
   "execution_count": 1,
   "id": "8b517b4c-45bc-461e-a4ec-be21478b4cdb",
   "metadata": {},
   "outputs": [
    {
     "name": "stdout",
     "output_type": "stream",
     "text": [
      "3 x 1 = 3\n",
      "3 x 2 = 6\n",
      "3 x 3 = 9\n",
      "3 x 4 = 12\n",
      "3 x 5 = 15\n",
      "3 x 6 = 18\n",
      "3 x 7 = 21\n",
      "3 x 8 = 24\n",
      "3 x 9 = 27\n",
      "3 x 10 = 30\n"
     ]
    },
    {
     "name": "stdin",
     "output_type": "stream",
     "text": [
      "press s to stop or another key to continued:  G\n"
     ]
    },
    {
     "name": "stdout",
     "output_type": "stream",
     "text": [
      "3 x 1 = 3\n",
      "3 x 2 = 6\n",
      "3 x 3 = 9\n",
      "3 x 4 = 12\n",
      "3 x 5 = 15\n",
      "3 x 6 = 18\n",
      "3 x 7 = 21\n",
      "3 x 8 = 24\n",
      "3 x 9 = 27\n",
      "3 x 10 = 30\n"
     ]
    },
    {
     "name": "stdin",
     "output_type": "stream",
     "text": [
      "press s to stop or another key to continued:  S\n"
     ]
    }
   ],
   "source": [
    "a = \"\"\n",
    "\n",
    "while a.lower() != \"s\":\n",
    "    tab = 3\n",
    "    a = 1\n",
    "    \n",
    "    while a <= 10:\n",
    "        print(f\"{tab} x {a} = {tab*a}\") \n",
    "        a += 1\n",
    "\n",
    "    a = str(input(\"press s to stop or another key to continued: \"))"
   ]
  },
  {
   "cell_type": "code",
   "execution_count": 29,
   "id": "e6e11164-39a3-4680-8dfe-9908adfcaa88",
   "metadata": {},
   "outputs": [
    {
     "name": "stdin",
     "output_type": "stream",
     "text": [
      "what number you want: 5\n"
     ]
    },
    {
     "name": "stdout",
     "output_type": "stream",
     "text": [
      "5 x 1 = 5\n",
      "5 x 2 = 10\n",
      "5 x 3 = 15\n",
      "5 x 4 = 20\n",
      "5 x 5 = 25\n",
      "5 x 6 = 30\n",
      "5 x 7 = 35\n",
      "5 x 8 = 40\n",
      "5 x 9 = 45\n",
      "5 x 10 = 50\n"
     ]
    },
    {
     "name": "stdin",
     "output_type": "stream",
     "text": [
      "press s to stop or another key to continued:  s\n"
     ]
    }
   ],
   "source": [
    "a = \"\"\n",
    "\n",
    "while a.lower() != \"s\":\n",
    "    tab = int(input(\"what number you want:\"))\n",
    "    a = 1\n",
    "    \n",
    "    while a <= 10:\n",
    "        print(f\"{tab} x {a} = {tab*a}\") \n",
    "        a += 1\n",
    "\n",
    "    a = str(input(\"press s to stop or another key to continued: \"))"
   ]
  },
  {
   "cell_type": "code",
   "execution_count": 11,
   "id": "dec03734-ec2d-4544-9d91-34c7c3af4187",
   "metadata": {},
   "outputs": [],
   "source": [
    "def biodata():\n",
    "    print(\"\\nMy name is Habibullah khan\")\n",
    "    print(\"I am student of banoqabil\")\n",
    "    print(\"My school name is Al- Burhan Model High School\")\n",
    "    print(\"I am living in Karachi\")\n",
    "    print(\"My country is pakistan\")"
   ]
  },
  {
   "cell_type": "code",
   "execution_count": 13,
   "id": "0de2fb4d-db1f-4666-8944-412a49511836",
   "metadata": {},
   "outputs": [
    {
     "name": "stdout",
     "output_type": "stream",
     "text": [
      "\n",
      "My name is Habibullah khan\n",
      "I am student of banoqabil\n",
      "My school name is Al- Burhan Model High School\n",
      "I am living in Karachi\n",
      "My country is pakistan\n"
     ]
    }
   ],
   "source": [
    "biodata()"
   ]
  },
  {
   "cell_type": "code",
   "execution_count": 54,
   "id": "00fc879e-70b6-470a-bc4f-59ccda6a42bd",
   "metadata": {},
   "outputs": [
    {
     "name": "stdin",
     "output_type": "stream",
     "text": [
      "give subject number:  500\n"
     ]
    },
    {
     "data": {
      "text/plain": [
       "100.0"
      ]
     },
     "execution_count": 54,
     "metadata": {},
     "output_type": "execute_result"
    }
   ],
   "source": [
    "def percentag():\n",
    "    per = user/ 500 *100\n",
    "    return per\n",
    "user = int(input(\"give subject number: \"))\n",
    "\n",
    "percentag()"
   ]
  },
  {
   "cell_type": "code",
   "execution_count": null,
   "id": "8eb2af99-adb3-4423-8755-d5f4e80d3fac",
   "metadata": {},
   "outputs": [],
   "source": [
    "def cal(a, b):\n",
    "    print(\"\")"
   ]
  },
  {
   "cell_type": "code",
   "execution_count": 44,
   "id": "3e070c81-2f4f-46ca-aa25-e64be55a9986",
   "metadata": {},
   "outputs": [
    {
     "name": "stdin",
     "output_type": "stream",
     "text": [
      "give number 5\n"
     ]
    },
    {
     "name": "stdout",
     "output_type": "stream",
     "text": [
      "Multiply , divide , substraction , addition what are you say\n"
     ]
    },
    {
     "name": "stdin",
     "output_type": "stream",
     "text": [
      "give number 4\n"
     ]
    }
   ],
   "source": [
    "a = int(input(\"give number\"))\n",
    "        \n",
    "b = int(input(\"give number\"))       "
   ]
  },
  {
   "cell_type": "code",
   "execution_count": 68,
   "id": "a369bc78-dc81-482e-a70a-7bea823d9da7",
   "metadata": {},
   "outputs": [
    {
     "name": "stdin",
     "output_type": "stream",
     "text": [
      "Enter your name: habibfdajk\n",
      "Enter your physics numbers: 100\n",
      "Enter your chemistry numbers: 100\n",
      "Enter your biology numbers: 100\n",
      "Enter your math numbers: 100\n",
      "Enter your urdu numbers: 100\n",
      "Enter your islamiat numbers: 100\n"
     ]
    },
    {
     "name": "stdout",
     "output_type": "stream",
     "text": [
      "\tyour Total marks are: 700\n",
      " and your percentage is  107.6923076923077\n",
      " and your grade is  fail\n"
     ]
    }
   ],
   "source": [
    "                                                      # marksheet(1)\n",
    "\n",
    "name = input(\"Enter your name:\" )\n",
    "\n",
    "phy = int(input(\"Enter your physics numbers:\"))\n",
    "che = int(input(\"Enter your chemistry numbers:\"))\n",
    "bio = int(input(\"Enter your biology numbers:\"))\n",
    "math = int(input(\"Enter your math numbers:\"))\n",
    "urdu = int(input(\"Enter your urdu numbers:\"))      \n",
    "islamiat = int(input(\"Enter your islamiat numbers:\"))\n",
    "\n",
    "obtain = (phy + che + bio + math + urdu + islamiat +  islamiat )\n",
    "percent = (obtain /650 *100)\n",
    "\n",
    "if percent >= 81 and percent <= 100:\n",
    "    grade = \"A1\"\n",
    "\n",
    "elif percent >= 71 and percent <= 81  :\n",
    "    grade = \"B\"\n",
    "elif percent >= 50 and percent <= 71:\n",
    "    grade = \"C\"\n",
    "\n",
    "else:\n",
    "    grade = \"fail\"\n",
    "\n",
    "    \n",
    "print(f\"\\tyour Total marks are: {obtain}\\n and your percentage is  {percent}\\n and your grade is  {grade}\" )\n",
    "\n",
    "\n",
    "\n",
    "        "
   ]
  },
  {
   "cell_type": "code",
   "execution_count": 23,
   "id": "fd03eee6-c02b-415b-a395-eedf3e0599bf",
   "metadata": {},
   "outputs": [
    {
     "ename": "SyntaxError",
     "evalue": "invalid syntax (1297728879.py, line 6)",
     "output_type": "error",
     "traceback": [
      "\u001b[1;36m  Cell \u001b[1;32mIn[23], line 6\u001b[1;36m\u001b[0m\n\u001b[1;33m    if count  % == 0:\u001b[0m\n\u001b[1;37m                ^\u001b[0m\n\u001b[1;31mSyntaxError\u001b[0m\u001b[1;31m:\u001b[0m invalid syntax\n"
     ]
    }
   ],
   "source": [
    "## Question 2\n",
    "# Original Code\n",
    "count = 10\n",
    "\n",
    "while count < 0:\n",
    "    if count  % = 0:\n",
    "        print(count, \"is even\")\n",
    "    else:\n",
    "        print(count, \"is odd\")\n",
    "    count += 1\n"
   ]
  },
  {
   "cell_type": "code",
   "execution_count": 1,
   "id": "df0dec94-894e-43ea-87ad-0d06544c7979",
   "metadata": {},
   "outputs": [
    {
     "name": "stdout",
     "output_type": "stream",
     "text": [
      "10 is even\n",
      "9 is odd\n",
      "8 is even\n",
      "7 is odd\n",
      "6 is even\n",
      "5 is odd\n",
      "4 is even\n",
      "3 is odd\n",
      "2 is even\n",
      "1 is odd\n"
     ]
    }
   ],
   "source": [
    "## Question 2\n",
    "# Original Code\n",
    "user = 10\n",
    "\n",
    "while user > 0:\n",
    "    if user % 2 == 0:\n",
    "        print(user, \"is even\")\n",
    "    else:\n",
    "        print(user, \"is odd\")\n",
    "    user -= 1\n",
    " \n",
    "\n"
   ]
  },
  {
   "cell_type": "code",
   "execution_count": 11,
   "id": "3fe45710-ddb9-4d21-8b21-ed9458a5e362",
   "metadata": {},
   "outputs": [
    {
     "name": "stdout",
     "output_type": "stream",
     "text": [
      "10\n",
      "9\n",
      "8\n",
      "7\n",
      "6\n",
      "5\n",
      "4\n",
      "3\n",
      "2\n",
      "1\n",
      "Loop ended at zero\n"
     ]
    }
   ],
   "source": [
    "#Question 1\n",
    "\n",
    "# Original Code\n",
    "user = 10\n",
    "while user != 0:\n",
    "    print(user)\n",
    "    user -= 1\n",
    "\n",
    "if user == 0:\n",
    "    print(\"Loop ended at zero\")"
   ]
  },
  {
   "cell_type": "code",
   "execution_count": 3,
   "id": "c8056ae3-6e9c-42db-8a0a-9746ad17ace4",
   "metadata": {},
   "outputs": [
    {
     "name": "stdout",
     "output_type": "stream",
     "text": [
      "this is function\n"
     ]
    }
   ],
   "source": [
    "def abc():\n",
    "    print(\"this is function\")\n",
    "\n",
    "abc()"
   ]
  },
  {
   "cell_type": "code",
   "execution_count": 29,
   "id": "31678c07-6b2d-42c3-8fd1-b36a63a679b2",
   "metadata": {},
   "outputs": [
    {
     "name": "stdout",
     "output_type": "stream",
     "text": [
      "when add: 9\n",
      "SWFor divide: 0.8\n"
     ]
    }
   ],
   "source": [
    "def cal(a, b):\n",
    "    print(\"when add:\",a+b)\n",
    "    print(\"SWFor divide:\",a/b)\n",
    "\n",
    "cal(4, 5)\n"
   ]
  },
  {
   "cell_type": "code",
   "execution_count": 19,
   "id": "19b802af-ff9f-4d94-8e9f-434e1d6ee443",
   "metadata": {},
   "outputs": [
    {
     "name": "stdout",
     "output_type": "stream",
     "text": [
      "{'rehan', 'Ziaullah khan', 'shafiullah khan', 'Saifullah khan', 'Abdullah khan', 'Habibullah khan', 'kaleemullah khan'}\n"
     ]
    }
   ],
   "source": [
    "name = {\"Habibullah khan\",\"Abdullah khan\",\"Ziaullah khan\",\"Saifullah khan\",\"rehan\",\"shafiullah khan\",\"kaleemullah khan\"}\n",
    "\n",
    "print(name)"
   ]
  },
  {
   "cell_type": "code",
   "execution_count": 23,
   "id": "94a51761-f34d-4695-b164-c10c2df3e0d1",
   "metadata": {},
   "outputs": [
    {
     "name": "stdout",
     "output_type": "stream",
     "text": [
      "My name is habibullah\n",
      "I am live in Karachi\n",
      "I am student of Banoqabil\n"
     ]
    }
   ],
   "source": [
    "def Biodata(a, b, c):\n",
    "    print(f\"My name is {a}\")\n",
    "    print(f\"I am live in {b}\")\n",
    "    print(f\"I am student of {c}\")\n",
    "\n",
    "Biodata(\"habibullah\" ,\"Karachi\", \"Banoqabil\")"
   ]
  },
  {
   "cell_type": "code",
   "execution_count": 7,
   "id": "31b98589-60ba-48af-a458-f86d99923aa6",
   "metadata": {},
   "outputs": [
    {
     "name": "stdout",
     "output_type": "stream",
     "text": [
      "['habib', 'abc', '123', 'xyz']\n"
     ]
    }
   ],
   "source": [
    "names = [\"habib\",\"abc\",\"123\",\"xyz\"]\n",
    "print(names)\n",
    "\n"
   ]
  },
  {
   "cell_type": "code",
   "execution_count": 9,
   "id": "b39d9973-861c-4216-90c4-5a6aa2bfe1d7",
   "metadata": {},
   "outputs": [
    {
     "name": "stdout",
     "output_type": "stream",
     "text": [
      "['habib', 'abc', '123', 'xyz']\n",
      "['habib', ['ABC'], '123', 'xyz']\n"
     ]
    }
   ],
   "source": [
    "print(names)\n",
    "names[1] = [\"ABC\"]\n",
    "print(names)"
   ]
  },
  {
   "cell_type": "code",
   "execution_count": 11,
   "id": "f5b92763-6ad9-41a0-b7ef-a16a07b49a40",
   "metadata": {},
   "outputs": [
    {
     "name": "stdout",
     "output_type": "stream",
     "text": [
      "['habib', ['ABC'], '123', 'xyz']\n"
     ]
    },
    {
     "name": "stdin",
     "output_type": "stream",
     "text": [
      "Give me value: 3\n",
      "give me value hab\n",
      "give me value hav\n",
      "give me value hab\n"
     ]
    },
    {
     "name": "stdout",
     "output_type": "stream",
     "text": [
      "['habib', ['ABC'], '123', 'xyz', 'hab', 'hav', 'hab']\n"
     ]
    }
   ],
   "source": [
    "print(names)\n",
    "user = int(input(\"Give me value:\" ))\n",
    "for i in range (user):\n",
    "    names.append(input(\"give me value\"))\n",
    "print(names)\n"
   ]
  },
  {
   "cell_type": "code",
   "execution_count": 13,
   "id": "7e806173-8da5-41b4-b695-4e84fdb574bd",
   "metadata": {},
   "outputs": [
    {
     "name": "stdout",
     "output_type": "stream",
     "text": [
      "['habib', ['ABC'], '123', 'xyz', 'hab', 'hav', 'hab']\n"
     ]
    },
    {
     "name": "stdin",
     "output_type": "stream",
     "text": [
      "give me value ahba\n"
     ]
    },
    {
     "name": "stdout",
     "output_type": "stream",
     "text": [
      "['habib', ['ABC'], '123', 'xyz', 'hab', 'hav', 'hab', 'ahba']\n"
     ]
    }
   ],
   "source": [
    "print(names)\n",
    "names.append(input(\"give me value\"))\n",
    "print(names)"
   ]
  },
  {
   "cell_type": "code",
   "execution_count": 15,
   "id": "89d26119-de8d-456b-9caa-bc461b0a96c2",
   "metadata": {},
   "outputs": [
    {
     "name": "stdin",
     "output_type": "stream",
     "text": [
      "Give an index: 2\n",
      "give a value habib\n",
      "Give an index: 4\n",
      "give a value habibulla\n"
     ]
    },
    {
     "name": "stdout",
     "output_type": "stream",
     "text": [
      "['habib', ['ABC'], 'habib', '123', 'habibulla', 'xyz', 'hab', 'hav', 'hab', 'ahba']\n"
     ]
    }
   ],
   "source": [
    "for i in range (2):\n",
    "    names.insert(int(input(\"Give an index:\" )), input(\"give a value\"))\n",
    "\n",
    "print(names)"
   ]
  },
  {
   "cell_type": "code",
   "execution_count": 5,
   "id": "7300d8ce-7b30-42f0-b39d-e625dfcb6ecc",
   "metadata": {},
   "outputs": [
    {
     "ename": "NameError",
     "evalue": "name 'names' is not defined",
     "output_type": "error",
     "traceback": [
      "\u001b[1;31m---------------------------------------------------------------------------\u001b[0m",
      "\u001b[1;31mNameError\u001b[0m                                 Traceback (most recent call last)",
      "Cell \u001b[1;32mIn[5], line 1\u001b[0m\n\u001b[1;32m----> 1\u001b[0m \u001b[38;5;28mprint\u001b[39m(names)\n\u001b[0;32m      2\u001b[0m names\u001b[38;5;241m.\u001b[39mpop(\u001b[38;5;241m3\u001b[39m)\n\u001b[0;32m      4\u001b[0m \u001b[38;5;28mprint\u001b[39m(names)\n",
      "\u001b[1;31mNameError\u001b[0m: name 'names' is not defined"
     ]
    }
   ],
   "source": [
    "print(names)\n",
    "names.pop(3)\n",
    "\n",
    "print(names)"
   ]
  },
  {
   "cell_type": "code",
   "execution_count": 29,
   "id": "523b8edf-1024-4c20-a2d8-a1d1f7ece29b",
   "metadata": {},
   "outputs": [
    {
     "name": "stdout",
     "output_type": "stream",
     "text": [
      "['habib', ['ABC'], 'habib', '123', 'habibulla', 'xyz', 'hab', 'ahba']\n"
     ]
    },
    {
     "ename": "NameError",
     "evalue": "name 'habib' is not defined",
     "output_type": "error",
     "traceback": [
      "\u001b[1;31m---------------------------------------------------------------------------\u001b[0m",
      "\u001b[1;31mNameError\u001b[0m                                 Traceback (most recent call last)",
      "Cell \u001b[1;32mIn[29], line 5\u001b[0m\n\u001b[0;32m      1\u001b[0m \u001b[38;5;66;03m#names.pop(-2)\u001b[39;00m\n\u001b[0;32m      2\u001b[0m \n\u001b[0;32m      3\u001b[0m \u001b[38;5;66;03m#print(names)\u001b[39;00m\n\u001b[0;32m      4\u001b[0m \u001b[38;5;28mprint\u001b[39m(names)\n\u001b[1;32m----> 5\u001b[0m names\u001b[38;5;241m.\u001b[39mremove(habib)\n\u001b[0;32m      7\u001b[0m \u001b[38;5;28mprint\u001b[39m(names)\n",
      "\u001b[1;31mNameError\u001b[0m: name 'habib' is not defined"
     ]
    }
   ],
   "source": [
    "#names.pop(-2)\n",
    "\n",
    "#print(names)\n",
    "print(names)\n",
    "names.remove(habib)\n",
    "\n",
    "print(names)"
   ]
  },
  {
   "cell_type": "code",
   "execution_count": 65,
   "id": "af6434dd-ddf8-457e-8889-cdddf390293b",
   "metadata": {},
   "outputs": [
    {
     "name": "stdout",
     "output_type": "stream",
     "text": [
      "11\n",
      "10\n",
      "9\n",
      "8\n",
      "7\n",
      "6\n",
      "5\n",
      "4\n",
      "3\n",
      "2\n",
      "habib\n",
      "['ABC']\n",
      "habib\n",
      "123\n",
      "habibulla\n",
      "xyz\n",
      "hab\n",
      "ahba\n"
     ]
    }
   ],
   "source": [
    "for i in range(11,1, -1):\n",
    "    print(i)\n",
    "\n",
    "\n",
    "for j in names:\n",
    "    print(j)"
   ]
  },
  {
   "cell_type": "code",
   "execution_count": 81,
   "id": "4b62fc22-f808-420b-bc35-94d203e6941f",
   "metadata": {},
   "outputs": [
    {
     "ename": "TypeError",
     "evalue": "list indices must be integers or slices, not str",
     "output_type": "error",
     "traceback": [
      "\u001b[1;31m---------------------------------------------------------------------------\u001b[0m",
      "\u001b[1;31mTypeError\u001b[0m                                 Traceback (most recent call last)",
      "Cell \u001b[1;32mIn[81], line 1\u001b[0m\n\u001b[1;32m----> 1\u001b[0m names[j]\n\u001b[0;32m      2\u001b[0m \u001b[38;5;28;01mfor\u001b[39;00m i \u001b[38;5;129;01min\u001b[39;00m \u001b[38;5;28mrange\u001b[39m(\u001b[38;5;241m11\u001b[39m):\n\u001b[0;32m      3\u001b[0m     \u001b[38;5;28mprint\u001b[39m(names[j])\n",
      "\u001b[1;31mTypeError\u001b[0m: list indices must be integers or slices, not str"
     ]
    }
   ],
   "source": [
    "names[j]\n",
    "for i in range(11):\n",
    "    print(names[j])"
   ]
  },
  {
   "cell_type": "code",
   "execution_count": 83,
   "id": "894dc114-acee-423d-afd1-56a75c84b7c4",
   "metadata": {},
   "outputs": [
    {
     "data": {
      "text/plain": [
       "8"
      ]
     },
     "execution_count": 83,
     "metadata": {},
     "output_type": "execute_result"
    }
   ],
   "source": [
    "len(names)"
   ]
  },
  {
   "cell_type": "code",
   "execution_count": null,
   "id": "c5c53c34-d764-4abd-bba4-3f3a19e076b5",
   "metadata": {},
   "outputs": [],
   "source": []
  }
 ],
 "metadata": {
  "kernelspec": {
   "display_name": "Python 3 (ipykernel)",
   "language": "python",
   "name": "python3"
  },
  "language_info": {
   "codemirror_mode": {
    "name": "ipython",
    "version": 3
   },
   "file_extension": ".py",
   "mimetype": "text/x-python",
   "name": "python",
   "nbconvert_exporter": "python",
   "pygments_lexer": "ipython3",
   "version": "3.12.4"
  }
 },
 "nbformat": 4,
 "nbformat_minor": 5
}
